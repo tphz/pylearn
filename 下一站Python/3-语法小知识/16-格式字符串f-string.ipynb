{
 "cells": [
  {
   "cell_type": "markdown",
   "metadata": {},
   "source": [
    "# 格式字符串f-string\n",
    "## 具有规整格式的字符串\n",
    "- 对齐：左对齐、右对齐、居中对齐、填充字符；\n",
    "- 整数：统一宽度、前导0、千分位、十进制、二进制、八进制、十六进制；\n",
    "- 小数：统一宽度、前导0、千分位、小数点后固定位数、百分比；\n",
    "## f-string的语法\n",
    "\n",
    "```f\"原样字符{<表达式>:<格式>}原样字符\"```\n",
    "\n",
    "将表达式的值按照格式的指示变为字符串。\n",
    "\n",
    "## 对齐和填充字符"
   ]
  },
  {
   "cell_type": "code",
   "execution_count": 22,
   "metadata": {},
   "outputs": [
    {
     "name": "stdout",
     "output_type": "stream",
     "text": [
      "|Lisa            |      Lisa      |            Lisa|\n",
      "|Brittany        |    Brittany    |        Brittany|\n",
      "|Jeffrey         |    Jeffrey     |         Jeffrey|\n",
      "|Kenneth         |    Kenneth     |         Kenneth|\n",
      "|Joshua          |     Joshua     |          Joshua|\n",
      "|David           |     David      |           David|\n",
      "|Jennifer        |    Jennifer    |        Jennifer|\n",
      "|Benjamin        |    Benjamin    |        Benjamin|\n",
      "|Derek           |     Derek      |           Derek|\n",
      "|Timothy         |    Timothy     |         Timothy|\n"
     ]
    }
   ],
   "source": [
    "# 对齐和填充字符\n",
    "from faker import Faker\n",
    "Faker.seed()\n",
    "f = Faker()\n",
    "namelist = [f.first_name() for i in range(10)]\n",
    "# 左中右对齐\n",
    "for name in namelist:\n",
    "    line = f\"|{name:<16}|{name:^16}|{name:>16}|\"\n",
    "    print(line)\n"
   ]
  },
  {
   "cell_type": "code",
   "execution_count": 13,
   "metadata": {},
   "outputs": [
    {
     "name": "stdout",
     "output_type": "stream",
     "text": [
      "0..........Joshua\n",
      "1...........Larry\n",
      "2.........Brandon\n",
      "3............Dawn\n",
      "4.........Roberto\n",
      "5.............Amy\n",
      "6........Kimberly\n",
      "7............Tami\n",
      "8.......Christine\n",
      "9.........Sabrina\n"
     ]
    }
   ],
   "source": [
    "# 填充字符\n",
    "for i, name in enumerate(namelist):\n",
    "    line = f\"{i}{name:.>16}\"\n",
    "    print(line)\n"
   ]
  },
  {
   "cell_type": "code",
   "execution_count": 14,
   "metadata": {},
   "outputs": [
    {
     "name": "stdout",
     "output_type": "stream",
     "text": [
      "[#################Joshua#################]\n",
      "[#################Larry##################]\n",
      "[################Brandon#################]\n",
      "[##################Dawn##################]\n",
      "[################Roberto#################]\n",
      "[##################Amy###################]\n",
      "[################Kimberly################]\n",
      "[##################Tami##################]\n",
      "[###############Christine################]\n",
      "[################Sabrina#################]\n"
     ]
    }
   ],
   "source": [
    "# 填充字符\n",
    "for i, name in enumerate(namelist):\n",
    "    line = f\"[{name:#^40}]\"\n",
    "    print(line)\n"
   ]
  },
  {
   "cell_type": "markdown",
   "metadata": {},
   "source": [
    "## 整数的格式"
   ]
  },
  {
   "cell_type": "code",
   "execution_count": 15,
   "metadata": {},
   "outputs": [
    {
     "name": "stdout",
     "output_type": "stream",
     "text": [
      "No.0000:   86836:  86,836:  251464:   15334:   15334:00010101001100110100\n",
      "No.0001:   82321:  82,321:  240621:   14191:   14191:00010100000110010001\n",
      "No.0002:   62441:  62,441:  171751:    f3e9:    F3E9:00001111001111101001\n",
      "No.0003:   26333:  26,333:   63335:    66dd:    66DD:00000110011011011101\n",
      "No.0004:    4629:   4,629:   11025:    1215:    1215:00000001001000010101\n",
      "No.0005:   73560:  73,560:  217530:   11f58:   11F58:00010001111101011000\n",
      "No.0006:   57119:  57,119:  157437:    df1f:    DF1F:00001101111100011111\n",
      "No.0007:   23921:  23,921:   56561:    5d71:    5D71:00000101110101110001\n",
      "No.0008:   -2434:  -2,434:   -4602:    -982:    -982:-0000000100110000010\n",
      "No.0009:   -5287:  -5,287:  -12247:   -14a7:   -14A7:-0000001010010100111\n"
     ]
    }
   ],
   "source": [
    "# 统一宽度、前导0、千分位、十进制、二进制、八进制、十六进制；\n",
    "from random import randint\n",
    "nlist = [randint(-9999, 99999) for i in range(10)]\n",
    "for i, n in enumerate(nlist):\n",
    "    line = f\"No.{i:04d}:{n:8d}:{n:8,d}:{n:8o}:{n:8x}:{n:8X}:{n:020b}\"\n",
    "    print(line)\n"
   ]
  },
  {
   "cell_type": "markdown",
   "metadata": {},
   "source": [
    "## 小数的格式"
   ]
  },
  {
   "cell_type": "code",
   "execution_count": 16,
   "metadata": {},
   "outputs": [
    {
     "name": "stdout",
     "output_type": "stream",
     "text": [
      "No.0000:........3610.029:        3,610.03:   361002.9%\n",
      "No.0001:........1464.383:        1,464.38:   146438.3%\n",
      "No.0002:........8459.115:        8,459.11:   845911.5%\n",
      "No.0003:........2784.998:        2,785.00:   278499.8%\n",
      "No.0004:........1762.947:        1,762.95:   176294.7%\n",
      "No.0005:........-667.400:         -667.40:   -66740.0%\n",
      "No.0006:........7014.548:        7,014.55:   701454.8%\n",
      "No.0007:........4254.760:        4,254.76:   425476.0%\n",
      "No.0008:........1746.697:        1,746.70:   174669.7%\n",
      "No.0009:........-792.560:         -792.56:   -79256.0%\n"
     ]
    }
   ],
   "source": [
    "# 统一宽度、前导0、千分位、小数点后固定位数、百分比；\n",
    "from random import uniform\n",
    "flist = [uniform(-999, 9999) for i in range(10)]\n",
    "for i, f in enumerate(flist):\n",
    "    line = f\"No.{i:04d}:{f:.>16.3f}:{f:16,.2f}:{f:12.1%}\"\n",
    "    print(line)\n"
   ]
  },
  {
   "cell_type": "markdown",
   "metadata": {},
   "source": [
    "## 特殊用法"
   ]
  },
  {
   "cell_type": "code",
   "execution_count": 17,
   "metadata": {},
   "outputs": [
    {
     "name": "stdout",
     "output_type": "stream",
     "text": [
      "a=12, b=34, a*a+b*b=1300\n"
     ]
    }
   ],
   "source": [
    "# 变量=值，输出\n",
    "a, b = 12, 34\n",
    "s = f\"{a=}, {b=}, {a*a+b*b=}\"\n",
    "print(s)\n"
   ]
  },
  {
   "cell_type": "code",
   "execution_count": 18,
   "metadata": {},
   "outputs": [
    {
     "name": "stdout",
     "output_type": "stream",
     "text": [
      "3\n",
      "3.1\n",
      "3.14\n",
      "3.142\n",
      "3.1416\n",
      "3.14159\n",
      "3.141593\n",
      "3.1415929\n",
      "3.14159292\n",
      "3.141592920\n",
      "3.1415929204\n",
      "3.14159292035\n",
      "3.141592920354\n",
      "3.1415929203540\n",
      "3.14159292035398\n",
      "3.141592920353983\n"
     ]
    }
   ],
   "source": [
    "# 嵌套的格式\n",
    "pi = 355/113\n",
    "for i in range(16):\n",
    "    print(f\"{pi:.{i}f}\")\n"
   ]
  },
  {
   "cell_type": "markdown",
   "metadata": {},
   "source": [
    "## 示例：打印一个菱形"
   ]
  },
  {
   "cell_type": "code",
   "execution_count": 19,
   "metadata": {},
   "outputs": [
    {
     "name": "stdout",
     "output_type": "stream",
     "text": [
      "--------------X---------------\n",
      "-------------XXX--------------\n",
      "------------XXXXX-------------\n",
      "-----------XXXXXXX------------\n",
      "----------XXXXXXXXX-----------\n",
      "---------XXXXXXXXXXX----------\n",
      "--------XXXXXXXXXXXXX---------\n",
      "-------XXXXXXXXXXXXXXX--------\n",
      "------XXXXXXXXXXXXXXXXX-------\n",
      "-----XXXXXXXXXXXXXXXXXXX------\n",
      "----XXXXXXXXXXXXXXXXXXXXX-----\n",
      "---XXXXXXXXXXXXXXXXXXXXXXX----\n",
      "----XXXXXXXXXXXXXXXXXXXXX-----\n",
      "-----XXXXXXXXXXXXXXXXXXX------\n",
      "------XXXXXXXXXXXXXXXXX-------\n",
      "-------XXXXXXXXXXXXXXX--------\n",
      "--------XXXXXXXXXXXXX---------\n",
      "---------XXXXXXXXXXX----------\n",
      "----------XXXXXXXXX-----------\n",
      "-----------XXXXXXX------------\n",
      "------------XXXXX-------------\n",
      "-------------XXX--------------\n",
      "--------------X---------------\n"
     ]
    }
   ],
   "source": [
    "n = 12\n",
    "for i in range(n*2-1):\n",
    "    w = \"X\" * ((n-abs(i-n+1))*2-1)\n",
    "    print(f\"{w:-^30}\")\n"
   ]
  }
 ],
 "metadata": {
  "kernelspec": {
   "display_name": "base",
   "language": "python",
   "name": "python3"
  },
  "language_info": {
   "codemirror_mode": {
    "name": "ipython",
    "version": 3
   },
   "file_extension": ".py",
   "mimetype": "text/x-python",
   "name": "python",
   "nbconvert_exporter": "python",
   "pygments_lexer": "ipython3",
   "version": "3.12.4"
  },
  "orig_nbformat": 4
 },
 "nbformat": 4,
 "nbformat_minor": 2
}
